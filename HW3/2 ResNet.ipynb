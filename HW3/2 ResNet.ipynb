{
 "cells": [
  {
   "cell_type": "markdown",
   "metadata": {},
   "source": [
    "# Transfer learning: Resnet-152\n",
    "\n",
    "## The code that produces the .csv file is at the very bottom."
   ]
  },
  {
   "cell_type": "code",
   "execution_count": 23,
   "metadata": {},
   "outputs": [],
   "source": [
    "import torch\n",
    "import numpy as np\n",
    "\n",
    "from torchvision.datasets import ImageFolder\n",
    "from torchvision import transforms\n",
    "import torch.nn as nn\n",
    "from torch.optim import Adam, SGD\n",
    "from torch.autograd import Variable\n",
    "import PIL.Image as Image\n",
    "from torchvision import models\n",
    "import time\n",
    "import os"
   ]
  },
  {
   "cell_type": "code",
   "execution_count": 24,
   "metadata": {},
   "outputs": [],
   "source": [
    "normalize = transforms.Normalize(\n",
    "        mean=[0.485, 0.456, 0.406],\n",
    "        std=[0.229, 0.224, 0.225],\n",
    "    )\n",
    "\n",
    "train_transform = transforms.Compose([\n",
    "        transforms.Resize(256),\n",
    "        transforms.RandomRotation(45),\n",
    "        transforms.RandomResizedCrop(224),\n",
    "        transforms.RandomHorizontalFlip(),\n",
    "        transforms.ToTensor(),\n",
    "        normalize,\n",
    "        ])\n",
    "\n",
    "valid_transform = transforms.Compose([\n",
    "        transforms.Resize(256),\n",
    "        transforms.CenterCrop(224),\n",
    "        transforms.ToTensor(),\n",
    "            normalize,\n",
    "        ])\n",
    "\n",
    "\n",
    "train_dataset = ImageFolder(\n",
    "        root='./bird_dataset/train_images/', \n",
    "        transform=train_transform\n",
    "    )\n",
    "\n",
    "valid_dataset = ImageFolder(\n",
    "        root='./bird_dataset/val_images/', \n",
    "        transform=valid_transform\n",
    "    )\n"
   ]
  },
  {
   "cell_type": "code",
   "execution_count": 25,
   "metadata": {},
   "outputs": [],
   "source": [
    "batch_size = 16\n",
    "num_workers = 1  #1 if cuda\n",
    "pin_memory = True  #true if cuda\n",
    "shuffle = True\n",
    "\n",
    "train_loader = torch.utils.data.DataLoader(\n",
    "        train_dataset, batch_size=batch_size, shuffle=shuffle,\n",
    "        num_workers=num_workers, pin_memory=pin_memory,\n",
    "    )\n",
    "\n",
    "valid_loader = torch.utils.data.DataLoader(\n",
    "        valid_dataset, batch_size=batch_size, shuffle=shuffle,\n",
    "        num_workers=num_workers, pin_memory=pin_memory,\n",
    "    )"
   ]
  },
  {
   "cell_type": "code",
   "execution_count": 27,
   "metadata": {},
   "outputs": [],
   "source": [
    "cuda_avail = torch.cuda.is_available()\n",
    "\n",
    "model_ft = models.resnet152(pretrained=True) \n",
    "num_ftrs = model_ft.fc.in_features\n",
    "model_ft.fc = nn.Linear(num_ftrs, 20)     \n",
    " \n",
    "if cuda_avail:                                 \n",
    "    model_ft = model_ft.cuda()       \n",
    "\n",
    "loss_fn = nn.CrossEntropyLoss()          \n",
    "optimizer = SGD(model_ft.parameters(), lr=0.001, momentum=0.9)"
   ]
  },
  {
   "cell_type": "code",
   "execution_count": 28,
   "metadata": {},
   "outputs": [],
   "source": [
    "device = torch.device(\"cuda:0\" if torch.cuda.is_available() else \"cpu\")\n",
    "\n",
    "#inspired from\n",
    "# https://heartbeat.fritz.ai/basics-of-image-classification-with-pytorch-2f8973c51864\n",
    "\n",
    "\n",
    "def save_models(epoch):\n",
    "    torch.save(model_ft.state_dict(), \"resnetmodel_{}.model\".format(epoch))\n",
    "    print(\"Checkpoint saved\")\n",
    "\n",
    "def test():\n",
    "    model_ft.eval()\n",
    "    test_acc = 0.0\n",
    "    for data in valid_loader:\n",
    "        images, labels = data\n",
    "        images, labels = images.to(device), labels.to(device)\n",
    "\n",
    "        outputs = model_ft(images)\n",
    "        _,prediction = torch.max(outputs.data, 1)\n",
    "        test_acc += (prediction == labels).sum().item()\n",
    "\n",
    "    test_acc = test_acc / 103\n",
    "\n",
    "    return test_acc\n",
    "\n",
    "best_acc_train = 0.0\n",
    "best_acc_test = 0.0\n",
    "\n",
    "def train(num_epochs):\n",
    "    global best_acc_train\n",
    "    global best_acc_test\n",
    "    for epoch in range(num_epochs):\n",
    "        model_ft.train()\n",
    "        train_acc = 0.0\n",
    "        train_loss = 0.0\n",
    "        for data in train_loader:\n",
    "            images, labels = data\n",
    "            images, labels = images.to(device), labels.to(device)\n",
    "\n",
    "            optimizer.zero_grad()\n",
    "            outputs = model_ft(images)\n",
    "            loss = loss_fn(outputs,labels)\n",
    "            loss.backward()\n",
    "            optimizer.step()\n",
    "\n",
    "            train_loss += loss.cpu().item() * images.size(0)\n",
    "            _, prediction = torch.max(outputs.data, 1)\n",
    "            \n",
    "            train_acc += (prediction == labels).sum().item()\n",
    "\n",
    "        train_acc = train_acc / 1082\n",
    "        train_loss = train_loss / 1082\n",
    "\n",
    "        test_acc = test()\n",
    "\n",
    "        if (test_acc >= best_acc_test) and (train_acc >= best_acc_train):\n",
    "            save_models(epoch)\n",
    "            best_acc_test = test_acc\n",
    "            best_acc_train = train_acc\n",
    "\n",
    "\n",
    "        print(\"Epoch {}, Train Accuracy: {} , TrainLoss: {} , Test Accuracy: {}\".format(epoch, train_acc, train_loss,test_acc))\n"
   ]
  },
  {
   "cell_type": "code",
   "execution_count": 9,
   "metadata": {},
   "outputs": [
    {
     "name": "stdout",
     "output_type": "stream",
     "text": [
      "Epoch 0, Train Accuracy: 0.8438077634011091 , TrainLoss: 0.5333780475552994 , Test Accuracy: 0.8932038834951457\n",
      "Epoch 1, Train Accuracy: 0.8678373382624769 , TrainLoss: 0.43252752591854104 , Test Accuracy: 0.883495145631068\n",
      "Epoch 2, Train Accuracy: 0.8696857670979667 , TrainLoss: 0.44002513711421637 , Test Accuracy: 0.8737864077669902\n",
      "Epoch 3, Train Accuracy: 0.8622920517560074 , TrainLoss: 0.4640106884917578 , Test Accuracy: 0.9029126213592233\n",
      "Epoch 4, Train Accuracy: 0.8798521256931608 , TrainLoss: 0.41491544406427255 , Test Accuracy: 0.8932038834951457\n"
     ]
    }
   ],
   "source": [
    "optimizer = SGD(model_ft.parameters(), lr=0.001, momentum=0.9)\n",
    "train(5)"
   ]
  },
  {
   "cell_type": "code",
   "execution_count": 10,
   "metadata": {},
   "outputs": [
    {
     "name": "stdout",
     "output_type": "stream",
     "text": [
      "Epoch 0, Train Accuracy: 0.8807763401109058 , TrainLoss: 0.39712828211830636 , Test Accuracy: 0.912621359223301\n",
      "Checkpoint saved\n",
      "Epoch 1, Train Accuracy: 0.8853974121996303 , TrainLoss: 0.39955970534775925 , Test Accuracy: 0.9320388349514563\n",
      "Epoch 2, Train Accuracy: 0.8770794824399261 , TrainLoss: 0.4009243851172946 , Test Accuracy: 0.9223300970873787\n",
      "Epoch 3, Train Accuracy: 0.8743068391866913 , TrainLoss: 0.39618106271775505 , Test Accuracy: 0.9029126213592233\n",
      "Epoch 4, Train Accuracy: 0.8881700554528651 , TrainLoss: 0.3690962738558898 , Test Accuracy: 0.8640776699029126\n"
     ]
    }
   ],
   "source": [
    "optimizer = SGD(model_ft.parameters(), lr=0.001, momentum=0.9)\n",
    "train(5)"
   ]
  },
  {
   "cell_type": "code",
   "execution_count": 11,
   "metadata": {},
   "outputs": [
    {
     "name": "stdout",
     "output_type": "stream",
     "text": [
      "Epoch 0, Train Accuracy: 0.899260628465804 , TrainLoss: 0.3601100623827985 , Test Accuracy: 0.8543689320388349\n",
      "Epoch 1, Train Accuracy: 0.8974121996303143 , TrainLoss: 0.333515292147171 , Test Accuracy: 0.9029126213592233\n",
      "Epoch 2, Train Accuracy: 0.899260628465804 , TrainLoss: 0.3559979760051875 , Test Accuracy: 0.8932038834951457\n",
      "Epoch 3, Train Accuracy: 0.9001848428835489 , TrainLoss: 0.355687818939276 , Test Accuracy: 0.8932038834951457\n",
      "Epoch 4, Train Accuracy: 0.9066543438077634 , TrainLoss: 0.3274233182014247 , Test Accuracy: 0.883495145631068\n"
     ]
    }
   ],
   "source": [
    "optimizer = SGD(model_ft.parameters(), lr=0.001, momentum=0.9)\n",
    "train(5)"
   ]
  },
  {
   "cell_type": "code",
   "execution_count": 12,
   "metadata": {},
   "outputs": [
    {
     "name": "stdout",
     "output_type": "stream",
     "text": [
      "Epoch 0, Train Accuracy: 0.910351201478743 , TrainLoss: 0.29681951545743535 , Test Accuracy: 0.912621359223301\n",
      "Epoch 1, Train Accuracy: 0.9020332717190388 , TrainLoss: 0.310364294074159 , Test Accuracy: 0.8932038834951457\n",
      "Epoch 2, Train Accuracy: 0.9094269870609981 , TrainLoss: 0.30887515088216216 , Test Accuracy: 0.8932038834951457\n",
      "Epoch 3, Train Accuracy: 0.9168207024029574 , TrainLoss: 0.28270128564891883 , Test Accuracy: 0.9029126213592233\n",
      "Epoch 4, Train Accuracy: 0.9085027726432532 , TrainLoss: 0.31333437137815295 , Test Accuracy: 0.912621359223301\n",
      "Epoch 5, Train Accuracy: 0.9158964879852126 , TrainLoss: 0.2853762205008438 , Test Accuracy: 0.912621359223301\n",
      "Epoch 6, Train Accuracy: 0.9158964879852126 , TrainLoss: 0.2994083102220969 , Test Accuracy: 0.912621359223301\n",
      "Epoch 7, Train Accuracy: 0.9288354898336414 , TrainLoss: 0.24886606953170515 , Test Accuracy: 0.883495145631068\n",
      "Epoch 8, Train Accuracy: 0.9149722735674677 , TrainLoss: 0.2810341846920867 , Test Accuracy: 0.8932038834951457\n",
      "Epoch 9, Train Accuracy: 0.9038817005545287 , TrainLoss: 0.2951871597461141 , Test Accuracy: 0.883495145631068\n",
      "Epoch 10, Train Accuracy: 0.9001848428835489 , TrainLoss: 0.36506572382287045 , Test Accuracy: 0.9029126213592233\n",
      "Epoch 11, Train Accuracy: 0.9269870609981515 , TrainLoss: 0.2540962649801963 , Test Accuracy: 0.912621359223301\n",
      "Epoch 12, Train Accuracy: 0.9177449168207024 , TrainLoss: 0.303643471432261 , Test Accuracy: 0.912621359223301\n",
      "Epoch 13, Train Accuracy: 0.9121996303142329 , TrainLoss: 0.29481226833134394 , Test Accuracy: 0.9029126213592233\n",
      "Epoch 14, Train Accuracy: 0.9195933456561922 , TrainLoss: 0.2575227230401665 , Test Accuracy: 0.9029126213592233\n",
      "Epoch 15, Train Accuracy: 0.9149722735674677 , TrainLoss: 0.2851347127264837 , Test Accuracy: 0.9029126213592233\n",
      "Epoch 16, Train Accuracy: 0.911275415896488 , TrainLoss: 0.30193846272012004 , Test Accuracy: 0.883495145631068\n",
      "Epoch 17, Train Accuracy: 0.9094269870609981 , TrainLoss: 0.31710374729910973 , Test Accuracy: 0.9029126213592233\n",
      "Epoch 18, Train Accuracy: 0.9121996303142329 , TrainLoss: 0.31437978794361 , Test Accuracy: 0.912621359223301\n",
      "Epoch 19, Train Accuracy: 0.9149722735674677 , TrainLoss: 0.2948059755861208 , Test Accuracy: 0.9029126213592233\n"
     ]
    }
   ],
   "source": [
    "optimizer = SGD(model_ft.parameters(), lr=0.00001, momentum=0.9)\n",
    "train(20)"
   ]
  },
  {
   "cell_type": "code",
   "execution_count": 14,
   "metadata": {},
   "outputs": [
    {
     "name": "stdout",
     "output_type": "stream",
     "text": [
      "Epoch 0, Train Accuracy: 0.9177449168207024 , TrainLoss: 0.28156084284985133 , Test Accuracy: 0.912621359223301\n",
      "Epoch 1, Train Accuracy: 0.922365988909427 , TrainLoss: 0.2901320512270531 , Test Accuracy: 0.9029126213592233\n",
      "Epoch 2, Train Accuracy: 0.9168207024029574 , TrainLoss: 0.27392545642672095 , Test Accuracy: 0.9029126213592233\n",
      "Epoch 3, Train Accuracy: 0.9121996303142329 , TrainLoss: 0.2900943620726053 , Test Accuracy: 0.8932038834951457\n",
      "Epoch 4, Train Accuracy: 0.9260628465804066 , TrainLoss: 0.25716944146288523 , Test Accuracy: 0.8932038834951457\n"
     ]
    }
   ],
   "source": [
    "optimizer = SGD(model_ft.parameters(), lr=0.0000001, momentum=0.9)\n",
    "train(5)"
   ]
  },
  {
   "cell_type": "code",
   "execution_count": 16,
   "metadata": {},
   "outputs": [
    {
     "name": "stdout",
     "output_type": "stream",
     "text": [
      "Epoch 0, Train Accuracy: 0.9149722735674677 , TrainLoss: 0.2926082981340656 , Test Accuracy: 0.912621359223301\n",
      "Epoch 1, Train Accuracy: 0.9121996303142329 , TrainLoss: 0.2852314214829817 , Test Accuracy: 0.912621359223301\n",
      "Epoch 2, Train Accuracy: 0.9158964879852126 , TrainLoss: 0.2903482534693702 , Test Accuracy: 0.9029126213592233\n",
      "Epoch 3, Train Accuracy: 0.9325323475046211 , TrainLoss: 0.2577212348222292 , Test Accuracy: 0.912621359223301\n",
      "Epoch 4, Train Accuracy: 0.9085027726432532 , TrainLoss: 0.30452966904904616 , Test Accuracy: 0.9029126213592233\n"
     ]
    }
   ],
   "source": [
    "optimizer = SGD(model_ft.parameters(), lr=0.0000001, momentum=0.9)\n",
    "train(5)"
   ]
  },
  {
   "cell_type": "code",
   "execution_count": 18,
   "metadata": {},
   "outputs": [
    {
     "name": "stdout",
     "output_type": "stream",
     "text": [
      "Epoch 0, Train Accuracy: 0.9131238447319778 , TrainLoss: 0.2857175715088624 , Test Accuracy: 0.9029126213592233\n",
      "Epoch 1, Train Accuracy: 0.9094269870609981 , TrainLoss: 0.30698488132129537 , Test Accuracy: 0.8932038834951457\n",
      "Epoch 2, Train Accuracy: 0.9020332717190388 , TrainLoss: 0.3146503059513688 , Test Accuracy: 0.8932038834951457\n",
      "Epoch 3, Train Accuracy: 0.9242144177449169 , TrainLoss: 0.26262853901950356 , Test Accuracy: 0.8932038834951457\n",
      "Epoch 4, Train Accuracy: 0.9048059149722736 , TrainLoss: 0.3003206422721172 , Test Accuracy: 0.883495145631068\n"
     ]
    }
   ],
   "source": [
    "optimizer = SGD(model_ft.parameters(), lr=0.0000001, momentum=0.9)\n",
    "train(5)"
   ]
  },
  {
   "cell_type": "code",
   "execution_count": 19,
   "metadata": {},
   "outputs": [
    {
     "name": "stdout",
     "output_type": "stream",
     "text": [
      "Epoch 0, Train Accuracy: 0.9149722735674677 , TrainLoss: 0.27921398905365835 , Test Accuracy: 0.883495145631068\n",
      "Epoch 1, Train Accuracy: 0.9094269870609981 , TrainLoss: 0.32071738498708896 , Test Accuracy: 0.912621359223301\n",
      "Checkpoint saved\n",
      "Epoch 2, Train Accuracy: 0.9205175600739371 , TrainLoss: 0.28127728990673356 , Test Accuracy: 0.9029126213592233\n",
      "Checkpoint saved\n",
      "Epoch 3, Train Accuracy: 0.9214417744916821 , TrainLoss: 0.2872292442236943 , Test Accuracy: 0.912621359223301\n",
      "Epoch 4, Train Accuracy: 0.9131238447319778 , TrainLoss: 0.2882577839433155 , Test Accuracy: 0.9029126213592233\n"
     ]
    }
   ],
   "source": [
    "optimizer = SGD(model_ft.parameters(), lr=0.0001, momentum=0.9)\n",
    "train(5)"
   ]
  },
  {
   "cell_type": "code",
   "execution_count": 21,
   "metadata": {},
   "outputs": [],
   "source": [
    "model_ft.load_state_dict(torch.load('./resnetmodel_3.model'))"
   ]
  },
  {
   "cell_type": "code",
   "execution_count": 22,
   "metadata": {},
   "outputs": [],
   "source": [
    "test_dir = './bird_dataset/test_images/mistery_category'\n",
    "output_file = open(\"test2.csv\", \"w\")\n",
    "output_file.write(\"Id,Category\\n\")\n",
    "\n",
    "def pil_loader(path):\n",
    "    # open path as file to avoid ResourceWarning (https://github.com/python-pillow/Pillow/issues/835)\n",
    "    with open(path, 'rb') as f:\n",
    "        with Image.open(f) as img:\n",
    "            return img.convert('RGB')\n",
    "\n",
    "for f in os.listdir(test_dir):\n",
    "    if 'jpg' in f:\n",
    "        data = valid_transform(pil_loader(test_dir + '/' + f))\n",
    "        data = data.view(1, data.size(0), data.size(1), data.size(2))\n",
    "        if cuda_avail:\n",
    "            data = data.cuda()\n",
    "        model_ft.eval()\n",
    "        output = model_ft(data)\n",
    "        pred = output.data.max(1, keepdim=True)[1]\n",
    "        output_file.write(\"%s,%d\\n\" % (f[:-4], pred))\n",
    "\n",
    "output_file.close()"
   ]
  },
  {
   "cell_type": "code",
   "execution_count": 26,
   "metadata": {},
   "outputs": [],
   "source": [
    "torch.save(model_ft.state_dict(), \"resnet_20epochs_0.81290.model\")"
   ]
  },
  {
   "cell_type": "code",
   "execution_count": 34,
   "metadata": {},
   "outputs": [],
   "source": [
    "torch.save(model_ft.state_dict(), \"resnet_xepochs_0.83225.model\")"
   ]
  },
  {
   "cell_type": "code",
   "execution_count": 13,
   "metadata": {},
   "outputs": [],
   "source": [
    "torch.save(model_ft.state_dict(), \"resnet_0.29480_.model\")"
   ]
  },
  {
   "cell_type": "code",
   "execution_count": null,
   "metadata": {},
   "outputs": [],
   "source": []
  }
 ],
 "metadata": {
  "kernelspec": {
   "display_name": "Python 3",
   "language": "python",
   "name": "python3"
  },
  "language_info": {
   "codemirror_mode": {
    "name": "ipython",
    "version": 3
   },
   "file_extension": ".py",
   "mimetype": "text/x-python",
   "name": "python",
   "nbconvert_exporter": "python",
   "pygments_lexer": "ipython3",
   "version": "3.6.2"
  }
 },
 "nbformat": 4,
 "nbformat_minor": 2
}
