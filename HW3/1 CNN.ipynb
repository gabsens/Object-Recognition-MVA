{
 "cells": [
  {
   "cell_type": "markdown",
   "metadata": {},
   "source": [
    "# Home-made CNN\n",
    "\n",
    "## The code that produces the .csv file is at the very bottom."
   ]
  },
  {
   "cell_type": "code",
   "execution_count": 1,
   "metadata": {},
   "outputs": [],
   "source": [
    "import torch\n",
    "import numpy as np\n",
    "\n",
    "from torchvision.datasets import ImageFolder\n",
    "from torchvision import transforms\n",
    "import torch.nn as nn\n",
    "from torch.optim import Adam, SGD\n",
    "from torch.autograd import Variable\n",
    "import PIL.Image as Image\n",
    "import os \n",
    "from torch.optim import lr_scheduler"
   ]
  },
  {
   "cell_type": "code",
   "execution_count": 2,
   "metadata": {},
   "outputs": [],
   "source": [
    "normalize = transforms.Normalize(\n",
    "        mean=[0.485, 0.456, 0.406],\n",
    "        std=[0.229, 0.224, 0.225],\n",
    "    )\n",
    "\n",
    "train_transform = transforms.Compose([\n",
    "        transforms.Resize((256,256)),\n",
    "        transforms.RandomRotation(45),\n",
    "        transforms.RandomHorizontalFlip(),\n",
    "        transforms.ToTensor(),\n",
    "        normalize,\n",
    "        ])\n",
    "\n",
    "valid_transform = transforms.Compose([\n",
    "            transforms.Resize((256,256)),\n",
    "            transforms.RandomRotation(45),\n",
    "            transforms.RandomHorizontalFlip(),\n",
    "            transforms.ToTensor(),\n",
    "            normalize,\n",
    "        ])\n",
    "\n",
    "\n",
    "train_dataset = ImageFolder(\n",
    "        root='./bird_dataset/train_images/', \n",
    "        transform=train_transform\n",
    "    )\n",
    "\n",
    "valid_dataset = ImageFolder(\n",
    "        root='./bird_dataset/val_images/', \n",
    "        transform=valid_transform\n",
    "    )\n"
   ]
  },
  {
   "cell_type": "code",
   "execution_count": 3,
   "metadata": {},
   "outputs": [
    {
     "name": "stdout",
     "output_type": "stream",
     "text": [
      "1082\n",
      "103\n"
     ]
    }
   ],
   "source": [
    "print(len(train_dataset))\n",
    "print(len(valid_dataset))"
   ]
  },
  {
   "cell_type": "code",
   "execution_count": 4,
   "metadata": {},
   "outputs": [
    {
     "data": {
      "text/plain": [
       "20"
      ]
     },
     "execution_count": 4,
     "metadata": {},
     "output_type": "execute_result"
    }
   ],
   "source": [
    "len(train_dataset.classes)"
   ]
  },
  {
   "cell_type": "code",
   "execution_count": 5,
   "metadata": {},
   "outputs": [],
   "source": [
    "batch_size = 8\n",
    "num_workers = 1  #1 if cuda\n",
    "pin_memory = True  #true if cuda\n",
    "shuffle = True\n",
    "\n",
    "train_loader = torch.utils.data.DataLoader(\n",
    "        train_dataset, batch_size=batch_size, shuffle=shuffle,\n",
    "        num_workers=num_workers, pin_memory=pin_memory,\n",
    "    )\n",
    "\n",
    "valid_loader = torch.utils.data.DataLoader(\n",
    "        valid_dataset, batch_size=batch_size, shuffle=shuffle,\n",
    "        num_workers=num_workers, pin_memory=pin_memory,\n",
    "    )"
   ]
  },
  {
   "cell_type": "code",
   "execution_count": 6,
   "metadata": {},
   "outputs": [],
   "source": [
    "#credit for this architecture \n",
    "# https://heartbeat.fritz.ai/basics-of-image-classification-with-pytorch-2f8973c51864\n",
    "\n",
    "class Unit(nn.Module):\n",
    "    def __init__(self,in_channels,out_channels):\n",
    "        super(Unit,self).__init__()\n",
    "        \n",
    "\n",
    "        self.conv = nn.Conv2d(in_channels=in_channels,kernel_size=3,out_channels=out_channels,stride=1,padding=1)\n",
    "        self.bn = nn.BatchNorm2d(num_features=out_channels)\n",
    "        self.relu = nn.ReLU()\n",
    "\n",
    "    def forward(self,input):\n",
    "        output = self.conv(input)\n",
    "        output = self.bn(output)\n",
    "        output = self.relu(output)\n",
    "\n",
    "        return output\n",
    "\n",
    "class SimpleNet(nn.Module):\n",
    "    def __init__(self,num_classes=20):\n",
    "        super(SimpleNet,self).__init__()\n",
    "\n",
    "        \n",
    "        self.unit1 = Unit(in_channels=3,out_channels=32)\n",
    "        self.unit2 = Unit(in_channels=32, out_channels=32)\n",
    "        self.unit3 = Unit(in_channels=32, out_channels=32)\n",
    "\n",
    "        self.pool1 = nn.MaxPool2d(kernel_size=2)\n",
    "\n",
    "        self.unit4 = Unit(in_channels=32, out_channels=64)\n",
    "        self.unit5 = Unit(in_channels=64, out_channels=64)\n",
    "        self.unit6 = Unit(in_channels=64, out_channels=64)\n",
    "        self.unit7 = Unit(in_channels=64, out_channels=64)\n",
    "\n",
    "        self.pool2 = nn.MaxPool2d(kernel_size=2)\n",
    "\n",
    "        self.unit8 = Unit(in_channels=64, out_channels=128)\n",
    "        self.unit9 = Unit(in_channels=128, out_channels=128)\n",
    "        self.unit10 = Unit(in_channels=128, out_channels=128)\n",
    "        self.unit11 = Unit(in_channels=128, out_channels=128)\n",
    "\n",
    "        self.pool3 = nn.MaxPool2d(kernel_size=2)\n",
    "\n",
    "        self.unit12 = Unit(in_channels=128, out_channels=128)\n",
    "        self.unit13 = Unit(in_channels=128, out_channels=128)\n",
    "        self.unit14 = Unit(in_channels=128, out_channels=128)\n",
    "\n",
    "        self.avgpool = nn.AvgPool2d(kernel_size=4)\n",
    "        \n",
    "        self.net = nn.Sequential(self.unit1, self.unit2, self.unit3, self.pool1, self.unit4, self.unit5, self.unit6\n",
    "                                 ,self.unit7, self.pool2, self.unit8, self.unit9, self.unit10, self.unit11, self.pool3,\n",
    "                                 self.unit12, self.unit13, self.unit14, self.avgpool)\n",
    "        \n",
    "        self.drop_out = nn.Dropout()\n",
    "        self.fc1 = nn.Linear(128*8*8,1000)\n",
    "        self.fc2 = nn.Linear(1000, num_classes)\n",
    "        \n",
    "    def forward(self, input):\n",
    "        output = self.net(input)\n",
    "        #print(output.shape)  useful for debugging and finding the right size\n",
    "        output = output.view(-1,128*8*8)\n",
    "        output = self.drop_out(output)\n",
    "        output = self.fc1(output)\n",
    "        output = self.fc2(output)\n",
    "        return output"
   ]
  },
  {
   "cell_type": "code",
   "execution_count": 7,
   "metadata": {},
   "outputs": [],
   "source": [
    "cuda_avail = torch.cuda.is_available()\n",
    "\n",
    "model = SimpleNet(num_classes=20)\n",
    "\n",
    "if cuda_avail:\n",
    "    model.cuda()\n",
    "\n",
    "optimizer = SGD(model.parameters(), lr=0.001, momentum=0.9)\n",
    "loss_fn = nn.CrossEntropyLoss()"
   ]
  },
  {
   "cell_type": "code",
   "execution_count": 8,
   "metadata": {},
   "outputs": [],
   "source": [
    "device = torch.device(\"cuda:0\" if torch.cuda.is_available() else \"cpu\")\n",
    "\n",
    "#inspired from\n",
    "# https://heartbeat.fritz.ai/basics-of-image-classification-with-pytorch-2f8973c51864\n",
    "\n",
    "\n",
    "def save_models(epoch):\n",
    "    torch.save(model.state_dict(), \"CNN_{}.model\".format(epoch))\n",
    "    print(\"Checkpoint saved\")\n",
    "\n",
    "def test():\n",
    "    model.eval()\n",
    "    test_acc = 0.0\n",
    "    for data in valid_loader:\n",
    "        images, labels = data\n",
    "        images, labels = images.to(device), labels.to(device)\n",
    "\n",
    "        outputs = model(images)\n",
    "        _,prediction = torch.max(outputs.data, 1)\n",
    "        test_acc += (prediction == labels).sum().item()\n",
    "        \n",
    "    test_acc = test_acc/103\n",
    "    return test_acc\n",
    "\n",
    "\n",
    "best_acc_train = 0.0\n",
    "best_acc_test = 0.0\n",
    "\n",
    "def train(num_epochs):\n",
    "    global best_acc_train\n",
    "    global best_acc_test\n",
    "    for epoch in range(num_epochs):\n",
    "        model.train()\n",
    "        train_acc = 0.0\n",
    "        train_loss = 0.0\n",
    "        for data in train_loader:\n",
    "            images, labels = data\n",
    "            images, labels = images.to(device), labels.to(device)\n",
    "\n",
    "            optimizer.zero_grad()  #Clear all accumulated gradients\n",
    "            outputs = model(images)\n",
    "            loss = loss_fn(outputs,labels)\n",
    "            loss.backward()\n",
    "\n",
    "            \n",
    "            optimizer.step()  #Adjust parameters according to the computed gradients\n",
    "\n",
    "            train_loss += loss.cpu().item() * images.size(0)\n",
    "            _, prediction = torch.max(outputs.data, 1)\n",
    "            \n",
    "            train_acc += (prediction == labels).sum().item()\n",
    "\n",
    "        train_acc = train_acc / 1082\n",
    "        train_loss = train_loss / 1082\n",
    "\n",
    "\n",
    "        test_acc = test()\n",
    "\n",
    "        \n",
    "        if (test_acc >= best_acc_test) and (train_acc >= best_acc_train):\n",
    "            save_models(epoch)\n",
    "            best_acc_test = test_acc\n",
    "            best_acc_train = train_acc\n",
    "\n",
    "\n",
    "        # Print the metrics\n",
    "        print(\"Epoch {}, Train Accuracy: {} , TrainLoss: {} , Test Accuracy: {}\".format(epoch, train_acc, train_loss,test_acc))\n"
   ]
  },
  {
   "cell_type": "code",
   "execution_count": 9,
   "metadata": {},
   "outputs": [
    {
     "name": "stdout",
     "output_type": "stream",
     "text": [
      "Checkpoint saved\n",
      "Epoch 0, Train Accuracy: 0.08502772643253234 , TrainLoss: 2.9217026374697026 , Test Accuracy: 0.05825242718446602\n",
      "Checkpoint saved\n",
      "Epoch 1, Train Accuracy: 0.13955637707948243 , TrainLoss: 2.7727735188002947 , Test Accuracy: 0.1553398058252427\n",
      "Epoch 2, Train Accuracy: 0.18299445471349354 , TrainLoss: 2.5872170299346697 , Test Accuracy: 0.13592233009708737\n",
      "Checkpoint saved\n",
      "Epoch 3, Train Accuracy: 0.2255083179297597 , TrainLoss: 2.455256350159425 , Test Accuracy: 0.1941747572815534\n",
      "Checkpoint saved\n",
      "Epoch 4, Train Accuracy: 0.2689463955637708 , TrainLoss: 2.321520590297396 , Test Accuracy: 0.23300970873786409\n"
     ]
    }
   ],
   "source": [
    "train(5)"
   ]
  },
  {
   "cell_type": "code",
   "execution_count": 10,
   "metadata": {
    "scrolled": false
   },
   "outputs": [
    {
     "name": "stdout",
     "output_type": "stream",
     "text": [
      "Checkpoint saved\n",
      "Epoch 0, Train Accuracy: 0.29852125693160814 , TrainLoss: 2.2076543217005 , Test Accuracy: 0.2815533980582524\n",
      "Checkpoint saved\n",
      "Epoch 1, Train Accuracy: 0.32532347504621073 , TrainLoss: 2.081925305773723 , Test Accuracy: 0.3786407766990291\n",
      "Epoch 2, Train Accuracy: 0.3410351201478743 , TrainLoss: 2.0333803568221285 , Test Accuracy: 0.2815533980582524\n",
      "Epoch 3, Train Accuracy: 0.3576709796672828 , TrainLoss: 1.9161328524626557 , Test Accuracy: 0.33980582524271846\n",
      "Epoch 4, Train Accuracy: 0.39371534195933455 , TrainLoss: 1.8801093264560382 , Test Accuracy: 0.33980582524271846\n",
      "Checkpoint saved\n",
      "Epoch 5, Train Accuracy: 0.40388170055452866 , TrainLoss: 1.8087816542486166 , Test Accuracy: 0.4174757281553398\n",
      "Epoch 6, Train Accuracy: 0.42791127541589646 , TrainLoss: 1.7655716418338572 , Test Accuracy: 0.3592233009708738\n",
      "Epoch 7, Train Accuracy: 0.42791127541589646 , TrainLoss: 1.7691678306752343 , Test Accuracy: 0.4077669902912621\n",
      "Checkpoint saved\n",
      "Epoch 8, Train Accuracy: 0.45748613678373384 , TrainLoss: 1.6974097891347466 , Test Accuracy: 0.4368932038834951\n",
      "Epoch 9, Train Accuracy: 0.43807763401109057 , TrainLoss: 1.6883821802527097 , Test Accuracy: 0.4174757281553398\n",
      "Epoch 10, Train Accuracy: 0.45286506469500926 , TrainLoss: 1.6301680752618475 , Test Accuracy: 0.5242718446601942\n",
      "Epoch 11, Train Accuracy: 0.4731977818853974 , TrainLoss: 1.6294555871191394 , Test Accuracy: 0.34951456310679613\n",
      "Epoch 12, Train Accuracy: 0.488909426987061 , TrainLoss: 1.5755954216236108 , Test Accuracy: 0.4077669902912621\n",
      "Checkpoint saved\n",
      "Epoch 13, Train Accuracy: 0.49168207024029575 , TrainLoss: 1.5528647646225313 , Test Accuracy: 0.4368932038834951\n",
      "Epoch 14, Train Accuracy: 0.49353049907578556 , TrainLoss: 1.5575167068492022 , Test Accuracy: 0.39805825242718446\n",
      "Checkpoint saved\n",
      "Epoch 15, Train Accuracy: 0.511090573012939 , TrainLoss: 1.5320034650689793 , Test Accuracy: 0.5048543689320388\n",
      "Epoch 16, Train Accuracy: 0.5083179297597042 , TrainLoss: 1.4927620504347543 , Test Accuracy: 0.49514563106796117\n",
      "Epoch 17, Train Accuracy: 0.533271719038817 , TrainLoss: 1.433250549319932 , Test Accuracy: 0.4174757281553398\n",
      "Epoch 18, Train Accuracy: 0.5425138632162662 , TrainLoss: 1.409655913627963 , Test Accuracy: 0.4854368932038835\n",
      "Epoch 19, Train Accuracy: 0.5277264325323475 , TrainLoss: 1.4226891337833651 , Test Accuracy: 0.49514563106796117\n"
     ]
    }
   ],
   "source": [
    "train(20)"
   ]
  },
  {
   "cell_type": "code",
   "execution_count": 12,
   "metadata": {},
   "outputs": [
    {
     "name": "stdout",
     "output_type": "stream",
     "text": [
      "Epoch 0, Train Accuracy: 0.5859519408502772 , TrainLoss: 1.2850846603044521 , Test Accuracy: 0.4854368932038835\n",
      "Epoch 1, Train Accuracy: 0.6035120147874307 , TrainLoss: 1.21521439790285 , Test Accuracy: 0.47572815533980584\n",
      "Checkpoint saved\n",
      "Epoch 2, Train Accuracy: 0.6090573012939002 , TrainLoss: 1.19355831613382 , Test Accuracy: 0.5339805825242718\n",
      "Epoch 3, Train Accuracy: 0.6053604436229205 , TrainLoss: 1.1694013252716629 , Test Accuracy: 0.47572815533980584\n",
      "Checkpoint saved\n",
      "Epoch 4, Train Accuracy: 0.6284658040665434 , TrainLoss: 1.1434117868515128 , Test Accuracy: 0.5339805825242718\n",
      "Epoch 5, Train Accuracy: 0.6127541589648798 , TrainLoss: 1.1410721926063354 , Test Accuracy: 0.5339805825242718\n",
      "Epoch 6, Train Accuracy: 0.634011090573013 , TrainLoss: 1.1377606297156286 , Test Accuracy: 0.5242718446601942\n",
      "Epoch 7, Train Accuracy: 0.6303142329020333 , TrainLoss: 1.1244565750887126 , Test Accuracy: 0.5242718446601942\n",
      "Epoch 8, Train Accuracy: 0.6182994454713494 , TrainLoss: 1.1418335448792152 , Test Accuracy: 0.5145631067961165\n",
      "Epoch 9, Train Accuracy: 0.6534195933456562 , TrainLoss: 1.0918884365483705 , Test Accuracy: 0.5048543689320388\n"
     ]
    }
   ],
   "source": [
    "for g in optimizer.param_groups:\n",
    "    g['lr'] = 0.0001    #lowering the learning rate\n",
    "train(10)"
   ]
  },
  {
   "cell_type": "code",
   "execution_count": 13,
   "metadata": {},
   "outputs": [
    {
     "name": "stdout",
     "output_type": "stream",
     "text": [
      "Epoch 0, Train Accuracy: 0.6164510166358595 , TrainLoss: 1.1416488271103329 , Test Accuracy: 0.5631067961165048\n",
      "Epoch 1, Train Accuracy: 0.6349353049907579 , TrainLoss: 1.1056541277167977 , Test Accuracy: 0.5048543689320388\n",
      "Epoch 2, Train Accuracy: 0.6312384473197782 , TrainLoss: 1.096075559720094 , Test Accuracy: 0.5242718446601942\n",
      "Checkpoint saved\n",
      "Epoch 3, Train Accuracy: 0.6478743068391867 , TrainLoss: 1.1021574898700397 , Test Accuracy: 0.5436893203883495\n",
      "Epoch 4, Train Accuracy: 0.6423290203327172 , TrainLoss: 1.0750381939953224 , Test Accuracy: 0.47572815533980584\n",
      "Epoch 5, Train Accuracy: 0.6515711645101664 , TrainLoss: 1.0886062958764942 , Test Accuracy: 0.5048543689320388\n",
      "Epoch 6, Train Accuracy: 0.6626617375231053 , TrainLoss: 1.0652820385317705 , Test Accuracy: 0.5145631067961165\n",
      "Epoch 7, Train Accuracy: 0.6691312384473198 , TrainLoss: 1.0574364556402465 , Test Accuracy: 0.5048543689320388\n",
      "Epoch 8, Train Accuracy: 0.6423290203327172 , TrainLoss: 1.0934649121959636 , Test Accuracy: 0.5436893203883495\n",
      "Epoch 9, Train Accuracy: 0.6414048059149723 , TrainLoss: 1.08545330073168 , Test Accuracy: 0.5728155339805825\n",
      "Epoch 10, Train Accuracy: 0.6617375231053605 , TrainLoss: 1.0383176724262908 , Test Accuracy: 0.5145631067961165\n",
      "Epoch 11, Train Accuracy: 0.655268022181146 , TrainLoss: 1.0445580074835616 , Test Accuracy: 0.49514563106796117\n",
      "Checkpoint saved\n",
      "Epoch 12, Train Accuracy: 0.6497227356746765 , TrainLoss: 1.034272583487294 , Test Accuracy: 0.5436893203883495\n",
      "Epoch 13, Train Accuracy: 0.6691312384473198 , TrainLoss: 1.006678579474994 , Test Accuracy: 0.5242718446601942\n",
      "Epoch 14, Train Accuracy: 0.6691312384473198 , TrainLoss: 1.0206191032959662 , Test Accuracy: 0.5145631067961165\n",
      "Checkpoint saved\n",
      "Epoch 15, Train Accuracy: 0.6580406654343808 , TrainLoss: 1.0308028624811367 , Test Accuracy: 0.5436893203883495\n",
      "Epoch 16, Train Accuracy: 0.6756007393715342 , TrainLoss: 1.0108628140800322 , Test Accuracy: 0.4854368932038835\n",
      "Checkpoint saved\n",
      "Epoch 17, Train Accuracy: 0.6848428835489834 , TrainLoss: 0.9827255486560617 , Test Accuracy: 0.5436893203883495\n",
      "Epoch 18, Train Accuracy: 0.6598890942698706 , TrainLoss: 0.9840908817354721 , Test Accuracy: 0.5242718446601942\n",
      "Epoch 19, Train Accuracy: 0.6700554528650647 , TrainLoss: 1.0299387094934855 , Test Accuracy: 0.5145631067961165\n",
      "Epoch 20, Train Accuracy: 0.677449168207024 , TrainLoss: 0.9942860933857351 , Test Accuracy: 0.5339805825242718\n",
      "Epoch 21, Train Accuracy: 0.6802218114602587 , TrainLoss: 0.979424149624301 , Test Accuracy: 0.5242718446601942\n",
      "Epoch 22, Train Accuracy: 0.666358595194085 , TrainLoss: 0.9777709521119123 , Test Accuracy: 0.5339805825242718\n",
      "Epoch 23, Train Accuracy: 0.6765249537892791 , TrainLoss: 0.9800576220598767 , Test Accuracy: 0.5631067961165048\n",
      "Epoch 24, Train Accuracy: 0.6737523105360443 , TrainLoss: 0.9812085192216743 , Test Accuracy: 0.5242718446601942\n",
      "Epoch 25, Train Accuracy: 0.6571164510166358 , TrainLoss: 1.0117861367417793 , Test Accuracy: 0.5242718446601942\n",
      "Epoch 26, Train Accuracy: 0.6811460258780037 , TrainLoss: 0.9665147456135635 , Test Accuracy: 0.5436893203883495\n",
      "Epoch 27, Train Accuracy: 0.6829944547134935 , TrainLoss: 0.980062389770409 , Test Accuracy: 0.5533980582524272\n",
      "Checkpoint saved\n",
      "Epoch 28, Train Accuracy: 0.6894639556377079 , TrainLoss: 0.9798793601020207 , Test Accuracy: 0.5533980582524272\n",
      "Checkpoint saved\n",
      "Epoch 29, Train Accuracy: 0.7024029574861368 , TrainLoss: 0.9671810629627842 , Test Accuracy: 0.5825242718446602\n",
      "Epoch 30, Train Accuracy: 0.6968576709796673 , TrainLoss: 0.925770494281254 , Test Accuracy: 0.5533980582524272\n",
      "Epoch 31, Train Accuracy: 0.699630314232902 , TrainLoss: 0.9401325258441862 , Test Accuracy: 0.5048543689320388\n",
      "Epoch 32, Train Accuracy: 0.6876155268022182 , TrainLoss: 0.9427121615453921 , Test Accuracy: 0.5339805825242718\n",
      "Epoch 33, Train Accuracy: 0.6913123844731978 , TrainLoss: 0.9619113328055842 , Test Accuracy: 0.5631067961165048\n",
      "Epoch 34, Train Accuracy: 0.710720887245841 , TrainLoss: 0.9093597168843098 , Test Accuracy: 0.5631067961165048\n",
      "Epoch 35, Train Accuracy: 0.7301293900184843 , TrainLoss: 0.8844530877696829 , Test Accuracy: 0.5728155339805825\n",
      "Epoch 36, Train Accuracy: 0.7051756007393716 , TrainLoss: 0.912008036967787 , Test Accuracy: 0.5631067961165048\n",
      "Epoch 37, Train Accuracy: 0.6940850277264325 , TrainLoss: 0.8921324907080743 , Test Accuracy: 0.5533980582524272\n",
      "Epoch 38, Train Accuracy: 0.7134935304990758 , TrainLoss: 0.8841446748282243 , Test Accuracy: 0.5631067961165048\n",
      "Epoch 39, Train Accuracy: 0.6876155268022182 , TrainLoss: 0.9052085343218114 , Test Accuracy: 0.5436893203883495\n"
     ]
    }
   ],
   "source": [
    "train(40)"
   ]
  },
  {
   "cell_type": "code",
   "execution_count": 14,
   "metadata": {},
   "outputs": [
    {
     "name": "stdout",
     "output_type": "stream",
     "text": [
      "Epoch 0, Train Accuracy: 0.6940850277264325 , TrainLoss: 0.8980850942033496 , Test Accuracy: 0.5825242718446602\n",
      "Epoch 1, Train Accuracy: 0.7181146025878004 , TrainLoss: 0.8766235091108933 , Test Accuracy: 0.5631067961165048\n",
      "Epoch 2, Train Accuracy: 0.7301293900184843 , TrainLoss: 0.8415324348618936 , Test Accuracy: 0.5728155339805825\n",
      "Checkpoint saved\n",
      "Epoch 3, Train Accuracy: 0.722735674676525 , TrainLoss: 0.845726874310957 , Test Accuracy: 0.5825242718446602\n",
      "Epoch 4, Train Accuracy: 0.7125693160813309 , TrainLoss: 0.8605740090174507 , Test Accuracy: 0.5631067961165048\n",
      "Epoch 5, Train Accuracy: 0.7134935304990758 , TrainLoss: 0.8515933562559033 , Test Accuracy: 0.5825242718446602\n",
      "Epoch 6, Train Accuracy: 0.7134935304990758 , TrainLoss: 0.8482062946626308 , Test Accuracy: 0.5728155339805825\n",
      "Epoch 7, Train Accuracy: 0.7144177449168208 , TrainLoss: 0.879456793094078 , Test Accuracy: 0.5533980582524272\n",
      "Epoch 8, Train Accuracy: 0.7282809611829945 , TrainLoss: 0.8686375981558273 , Test Accuracy: 0.5339805825242718\n",
      "Epoch 9, Train Accuracy: 0.7162661737523105 , TrainLoss: 0.8498026498364433 , Test Accuracy: 0.5048543689320388\n"
     ]
    }
   ],
   "source": [
    "for g in optimizer.param_groups:\n",
    "    g['lr'] = 0.00001    #lowering the learning rate again\n",
    "train(10)"
   ]
  },
  {
   "cell_type": "code",
   "execution_count": 15,
   "metadata": {},
   "outputs": [],
   "source": [
    "#At this point, after 85 epochs, validation accuracy is not improving anymore.\n",
    "#We stop training and load the best model so far\n",
    "\n",
    "model.load_state_dict(torch.load('./CNN_3.model'))"
   ]
  },
  {
   "cell_type": "code",
   "execution_count": 15,
   "metadata": {},
   "outputs": [
    {
     "name": "stdout",
     "output_type": "stream",
     "text": [
      "Accuracy of the network on the 10000 test images: 9 %\n"
     ]
    }
   ],
   "source": [
    "correct = 0\n",
    "total = 0\n",
    "with torch.no_grad():\n",
    "    for data in train_loader:\n",
    "        images, labels = data\n",
    "        images, labels = images.to(device), labels.to(device)\n",
    "        outputs = model(images)\n",
    "        _, predicted = torch.max(outputs.data, 1)\n",
    "        total += labels.size(0)\n",
    "        correct += (predicted == labels).sum().item()\n",
    "\n",
    "print('Accuracy of the network on the 10000 test images: %d %%' % (\n",
    "    100 * correct / total))"
   ]
  },
  {
   "cell_type": "code",
   "execution_count": 16,
   "metadata": {},
   "outputs": [],
   "source": [
    "test_dir = './bird_dataset/test_images/mistery_category'\n",
    "output_file = open(\"test.csv\", \"w\")\n",
    "output_file.write(\"Id,Category\\n\")\n",
    "\n",
    "def pil_loader(path):\n",
    "    # open path as file to avoid ResourceWarning (https://github.com/python-pillow/Pillow/issues/835)\n",
    "    with open(path, 'rb') as f:\n",
    "        with Image.open(f) as img:\n",
    "            return img.convert('RGB')\n",
    "\n",
    "for f in os.listdir(test_dir):\n",
    "    if 'jpg' in f:\n",
    "        data = valid_transform(pil_loader(test_dir + '/' + f))\n",
    "        data = data.view(1, data.size(0), data.size(1), data.size(2))\n",
    "        if cuda_avail:\n",
    "            data = data.cuda()\n",
    "        model.eval()\n",
    "        output = model(data)\n",
    "        pred = output.data.max(1, keepdim=True)[1]\n",
    "        output_file.write(\"%s,%d\\n\" % (f[:-4], pred))\n",
    "\n",
    "output_file.close()"
   ]
  },
  {
   "cell_type": "code",
   "execution_count": null,
   "metadata": {},
   "outputs": [],
   "source": []
  }
 ],
 "metadata": {
  "kernelspec": {
   "display_name": "Python 3",
   "language": "python",
   "name": "python3"
  },
  "language_info": {
   "codemirror_mode": {
    "name": "ipython",
    "version": 3
   },
   "file_extension": ".py",
   "mimetype": "text/x-python",
   "name": "python",
   "nbconvert_exporter": "python",
   "pygments_lexer": "ipython3",
   "version": "3.5.2"
  }
 },
 "nbformat": 4,
 "nbformat_minor": 2
}
