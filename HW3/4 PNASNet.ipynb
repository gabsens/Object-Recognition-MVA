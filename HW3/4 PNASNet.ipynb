{
 "cells": [
  {
   "cell_type": "markdown",
   "metadata": {},
   "source": [
    "# Transfer learning: PNASNet-5-Large\n",
    "\n",
    "## The code that produces the .csv file is at the very bottom."
   ]
  },
  {
   "cell_type": "code",
   "execution_count": 1,
   "metadata": {},
   "outputs": [],
   "source": [
    "import torch\n",
    "import numpy as np\n",
    "\n",
    "from torchvision.datasets import ImageFolder\n",
    "from torchvision import transforms\n",
    "import torch.nn as nn\n",
    "from torch.optim import Adam, SGD\n",
    "from torch.autograd import Variable\n",
    "import PIL.Image as Image\n",
    "from torchvision import models\n",
    "import time\n",
    "import os\n",
    "import pretrainedmodels"
   ]
  },
  {
   "cell_type": "code",
   "execution_count": 2,
   "metadata": {},
   "outputs": [],
   "source": [
    "normalize = transforms.Normalize(\n",
    "        mean=[0.485, 0.456, 0.406],\n",
    "        std=[0.229, 0.224, 0.225],\n",
    "    )\n",
    "\n",
    "train_transform = transforms.Compose([\n",
    "        #transforms.Resize(256),\n",
    "        transforms.RandomRotation(45),\n",
    "        transforms.RandomResizedCrop(331),\n",
    "        transforms.RandomHorizontalFlip(),\n",
    "        transforms.ToTensor(),\n",
    "        normalize,\n",
    "        ])\n",
    "\n",
    "valid_transform = transforms.Compose([\n",
    "        #transforms.Resize(256),\n",
    "        transforms.CenterCrop(331),\n",
    "        transforms.ToTensor(),\n",
    "            normalize,\n",
    "        ])\n",
    "\n",
    "\n",
    "train_dataset = ImageFolder(\n",
    "        root='./bird_dataset/train_images/', \n",
    "        transform=train_transform\n",
    "    )\n",
    "\n",
    "valid_dataset = ImageFolder(\n",
    "        root='./bird_dataset/val_images/', \n",
    "        transform=valid_transform\n",
    "    )"
   ]
  },
  {
   "cell_type": "code",
   "execution_count": 3,
   "metadata": {},
   "outputs": [],
   "source": [
    "batch_size = 4\n",
    "num_workers = 1  #1 if cuda\n",
    "pin_memory = True  #true if cuda\n",
    "shuffle = True\n",
    "\n",
    "train_loader = torch.utils.data.DataLoader(\n",
    "        train_dataset, batch_size=batch_size, shuffle=shuffle,\n",
    "        num_workers=num_workers, pin_memory=pin_memory,\n",
    "    )\n",
    "\n",
    "valid_loader = torch.utils.data.DataLoader(\n",
    "        valid_dataset, batch_size=batch_size, shuffle=shuffle,\n",
    "        num_workers=num_workers, pin_memory=pin_memory,\n",
    "    )"
   ]
  },
  {
   "cell_type": "code",
   "execution_count": 4,
   "metadata": {},
   "outputs": [],
   "source": [
    "cuda_avail = torch.cuda.is_available()\n",
    "model_ft = pretrainedmodels.__dict__['pnasnet5large'](num_classes=1000, pretrained='imagenet')\n",
    "num_ftrs = model_ft.last_linear.in_features\n",
    "model_ft.fc = nn.Linear(num_ftrs, 20)      \n",
    " \n",
    "if cuda_avail:                                \n",
    "    model_ft = model_ft.cuda()       \n",
    "loss_fn = nn.CrossEntropyLoss()          \n",
    "\n",
    "\n",
    "optimizer = SGD(model_ft.parameters(), lr=0.001, momentum=0.9)"
   ]
  },
  {
   "cell_type": "code",
   "execution_count": 23,
   "metadata": {},
   "outputs": [],
   "source": [
    "device = torch.device(\"cuda:0\" if torch.cuda.is_available() else \"cpu\")\n",
    "\n",
    "def save_models(epoch):\n",
    "    torch.save(model_ft.state_dict(), \"pnasnet5largemodel_{}.model\".format(epoch))\n",
    "    print(\"Checkpoint saved\")\n",
    "\n",
    "def test():\n",
    "    model_ft.eval()\n",
    "    test_acc = 0.0\n",
    "    for data in valid_loader:\n",
    "        images, labels = data\n",
    "        images, labels = images.to(device), labels.to(device)\n",
    "        outputs = model_ft(images)\n",
    "        _,prediction = torch.max(outputs.data, 1)\n",
    "        test_acc += (prediction == labels).sum().item()\n",
    "        \n",
    "\n",
    "    test_acc = test_acc / 103\n",
    "\n",
    "    return test_acc\n",
    "\n",
    "best_acc_train = 0.0\n",
    "best_acc_test = 0.0\n",
    "\n",
    "def train(num_epochs):\n",
    "    global best_acc_train\n",
    "    global best_acc_test\n",
    "    for epoch in range(num_epochs):\n",
    "        model_ft.train()\n",
    "        train_acc = 0.0\n",
    "        train_loss = 0.0\n",
    "        for data in train_loader:\n",
    "            images, labels = data\n",
    "            images, labels = images.to(device), labels.to(device)\n",
    "            optimizer.zero_grad()\n",
    "            outputs = model_ft(images)\n",
    "            loss = loss_fn(outputs,labels)\n",
    "            loss.backward()\n",
    "            optimizer.step()\n",
    "\n",
    "            train_loss += loss.cpu().item() * images.size(0)\n",
    "            _, prediction = torch.max(outputs.data, 1)\n",
    "            \n",
    "            train_acc += (prediction == labels).sum().item()\n",
    "\n",
    "        train_acc = train_acc / 1082\n",
    "        train_loss = train_loss / 1082\n",
    "\n",
    "        test_acc = test()\n",
    "\n",
    "        if (test_acc >= best_acc_test) and (train_acc >= best_acc_train):\n",
    "            save_models(epoch)\n",
    "            best_acc_test = test_acc\n",
    "            best_acc_train = train_acc\n",
    "\n",
    "\n",
    "        # Print the metrics\n",
    "        print(\"Epoch {}, Train Accuracy: {} , TrainLoss: {} , Test Accuracy: {}\".format(epoch, train_acc, train_loss,test_acc))\n"
   ]
  },
  {
   "cell_type": "code",
   "execution_count": 6,
   "metadata": {},
   "outputs": [
    {
     "name": "stdout",
     "output_type": "stream",
     "text": [
      "Checkpoint saved\n",
      "Epoch 0, Train Accuracy: 0.3567467652495379 , TrainLoss: 2.8480817597366306 , Test Accuracy: 0.8155339805825242\n",
      "Checkpoint saved\n",
      "Epoch 1, Train Accuracy: 0.6487985212569316 , TrainLoss: 1.1572289713649786 , Test Accuracy: 0.912621359223301\n",
      "Epoch 2, Train Accuracy: 0.7476894639556377 , TrainLoss: 0.8192005637833459 , Test Accuracy: 0.8932038834951457\n",
      "Epoch 3, Train Accuracy: 0.7929759704251387 , TrainLoss: 0.6637907535002985 , Test Accuracy: 0.8932038834951457\n",
      "Epoch 4, Train Accuracy: 0.7781885397412199 , TrainLoss: 0.6991794655812206 , Test Accuracy: 0.883495145631068\n",
      "Epoch 5, Train Accuracy: 0.822550831792976 , TrainLoss: 0.62207459169483 , Test Accuracy: 0.883495145631068\n",
      "Epoch 6, Train Accuracy: 0.8234750462107209 , TrainLoss: 0.5635375143639922 , Test Accuracy: 0.8932038834951457\n",
      "Epoch 7, Train Accuracy: 0.8604436229205176 , TrainLoss: 0.43918722085723594 , Test Accuracy: 0.9029126213592233\n",
      "Epoch 8, Train Accuracy: 0.8558225508317929 , TrainLoss: 0.4437306910037113 , Test Accuracy: 0.9029126213592233\n",
      "Epoch 9, Train Accuracy: 0.8530499075785583 , TrainLoss: 0.4933027238369869 , Test Accuracy: 0.8932038834951457\n"
     ]
    }
   ],
   "source": [
    "optimizer = SGD(model_ft.parameters(), lr=0.001, momentum=0.9)\n",
    "train(10)"
   ]
  },
  {
   "cell_type": "code",
   "execution_count": 7,
   "metadata": {},
   "outputs": [
    {
     "name": "stdout",
     "output_type": "stream",
     "text": [
      "Epoch 0, Train Accuracy: 0.8743068391866913 , TrainLoss: 0.4503294033396046 , Test Accuracy: 0.912621359223301\n",
      "Epoch 1, Train Accuracy: 0.8558225508317929 , TrainLoss: 0.4449432024012652 , Test Accuracy: 0.883495145631068\n",
      "Epoch 2, Train Accuracy: 0.8853974121996303 , TrainLoss: 0.39059313564335796 , Test Accuracy: 0.9029126213592233\n",
      "Epoch 3, Train Accuracy: 0.8881700554528651 , TrainLoss: 0.3826705973161567 , Test Accuracy: 0.8640776699029126\n",
      "Epoch 4, Train Accuracy: 0.8964879852125693 , TrainLoss: 0.3400879051680926 , Test Accuracy: 0.9029126213592233\n"
     ]
    }
   ],
   "source": [
    "optimizer = SGD(model_ft.parameters(), lr=0.001, momentum=0.9)\n",
    "train(5)"
   ]
  },
  {
   "cell_type": "code",
   "execution_count": 11,
   "metadata": {},
   "outputs": [
    {
     "name": "stdout",
     "output_type": "stream",
     "text": [
      "Epoch 0, Train Accuracy: 0.8826247689463955 , TrainLoss: 0.40689175054017807 , Test Accuracy: 0.8932038834951457\n",
      "Checkpoint saved\n",
      "Epoch 1, Train Accuracy: 0.899260628465804 , TrainLoss: 0.3383355352221928 , Test Accuracy: 0.9029126213592233\n",
      "Checkpoint saved\n",
      "Epoch 2, Train Accuracy: 0.9066543438077634 , TrainLoss: 0.2886585149218547 , Test Accuracy: 0.912621359223301\n",
      "Epoch 3, Train Accuracy: 0.8974121996303143 , TrainLoss: 0.3266038123428711 , Test Accuracy: 0.9223300970873787\n",
      "Epoch 4, Train Accuracy: 0.8909426987060998 , TrainLoss: 0.3874747722294326 , Test Accuracy: 0.9029126213592233\n"
     ]
    }
   ],
   "source": [
    "optimizer = SGD(model_ft.parameters(), lr=0.001, momentum=0.9)\n",
    "train(5)"
   ]
  },
  {
   "cell_type": "code",
   "execution_count": 12,
   "metadata": {},
   "outputs": [
    {
     "name": "stdout",
     "output_type": "stream",
     "text": [
      "Epoch 0, Train Accuracy: 0.88909426987061 , TrainLoss: 0.3512711357497464 , Test Accuracy: 0.9320388349514563\n",
      "Epoch 1, Train Accuracy: 0.8909426987060998 , TrainLoss: 0.36845839089695054 , Test Accuracy: 0.9320388349514563\n",
      "Epoch 2, Train Accuracy: 0.9038817005545287 , TrainLoss: 0.3142694285528497 , Test Accuracy: 0.9223300970873787\n",
      "Epoch 3, Train Accuracy: 0.890018484288355 , TrainLoss: 0.35854611908001294 , Test Accuracy: 0.8932038834951457\n",
      "Epoch 4, Train Accuracy: 0.9048059149722736 , TrainLoss: 0.30387497741501784 , Test Accuracy: 0.9223300970873787\n"
     ]
    }
   ],
   "source": [
    "model_ft.load_state_dict(torch.load('./densenetmodel_2.model'))\n",
    "optimizer = SGD(model_ft.parameters(), lr=0.000001, momentum=0.9)\n",
    "train(5)"
   ]
  },
  {
   "cell_type": "code",
   "execution_count": 18,
   "metadata": {},
   "outputs": [
    {
     "name": "stdout",
     "output_type": "stream",
     "text": [
      "Epoch 0, Train Accuracy: 0.8974121996303143 , TrainLoss: 0.3278011068178413 , Test Accuracy: 0.9223300970873787\n",
      "Checkpoint saved\n",
      "Epoch 1, Train Accuracy: 0.9121996303142329 , TrainLoss: 0.31096666048723315 , Test Accuracy: 0.912621359223301\n",
      "Epoch 2, Train Accuracy: 0.9066543438077634 , TrainLoss: 0.31288091444484406 , Test Accuracy: 0.9223300970873787\n",
      "Epoch 3, Train Accuracy: 0.8937153419593346 , TrainLoss: 0.3416318161870988 , Test Accuracy: 0.9223300970873787\n",
      "Epoch 4, Train Accuracy: 0.9066543438077634 , TrainLoss: 0.31887432651907593 , Test Accuracy: 0.9223300970873787\n",
      "Checkpoint saved\n",
      "Epoch 5, Train Accuracy: 0.9140480591497228 , TrainLoss: 0.30257758635910514 , Test Accuracy: 0.9223300970873787\n",
      "Epoch 6, Train Accuracy: 0.9038817005545287 , TrainLoss: 0.3014515944637785 , Test Accuracy: 0.912621359223301\n",
      "Epoch 7, Train Accuracy: 0.9094269870609981 , TrainLoss: 0.3104034254599411 , Test Accuracy: 0.9320388349514563\n",
      "Epoch 8, Train Accuracy: 0.9121996303142329 , TrainLoss: 0.28287570181263133 , Test Accuracy: 0.941747572815534\n",
      "Epoch 9, Train Accuracy: 0.910351201478743 , TrainLoss: 0.29232440461953774 , Test Accuracy: 0.912621359223301\n",
      "Epoch 10, Train Accuracy: 0.8835489833641405 , TrainLoss: 0.3649916252234947 , Test Accuracy: 0.9223300970873787\n",
      "Epoch 11, Train Accuracy: 0.9048059149722736 , TrainLoss: 0.2979546108880457 , Test Accuracy: 0.912621359223301\n",
      "Epoch 12, Train Accuracy: 0.8909426987060998 , TrainLoss: 0.33633127979342026 , Test Accuracy: 0.9223300970873787\n",
      "Epoch 13, Train Accuracy: 0.9140480591497228 , TrainLoss: 0.30370781734558217 , Test Accuracy: 0.912621359223301\n",
      "Epoch 14, Train Accuracy: 0.9149722735674677 , TrainLoss: 0.26642786773427796 , Test Accuracy: 0.9223300970873787\n",
      "Epoch 15, Train Accuracy: 0.911275415896488 , TrainLoss: 0.2933752505924697 , Test Accuracy: 0.912621359223301\n",
      "Epoch 16, Train Accuracy: 0.8964879852125693 , TrainLoss: 0.3286783461650066 , Test Accuracy: 0.9320388349514563\n",
      "Epoch 17, Train Accuracy: 0.9011090573012939 , TrainLoss: 0.3424965965108819 , Test Accuracy: 0.912621359223301\n",
      "Epoch 18, Train Accuracy: 0.922365988909427 , TrainLoss: 0.2828489451663992 , Test Accuracy: 0.9223300970873787\n",
      "Epoch 19, Train Accuracy: 0.8918669131238447 , TrainLoss: 0.3450638159365839 , Test Accuracy: 0.9223300970873787\n"
     ]
    }
   ],
   "source": [
    "#optimizer = SGD(model_ft.parameters(), lr=0.000001, momentum=0.9)\n",
    "train(20)"
   ]
  },
  {
   "cell_type": "code",
   "execution_count": 20,
   "metadata": {},
   "outputs": [
    {
     "name": "stdout",
     "output_type": "stream",
     "text": [
      "Epoch 0, Train Accuracy: 0.9195933456561922 , TrainLoss: 0.27247023097688744 , Test Accuracy: 0.941747572815534\n",
      "Epoch 1, Train Accuracy: 0.911275415896488 , TrainLoss: 0.2909758496416695 , Test Accuracy: 0.9320388349514563\n",
      "Epoch 2, Train Accuracy: 0.9011090573012939 , TrainLoss: 0.33707578785979153 , Test Accuracy: 0.9320388349514563\n",
      "Epoch 3, Train Accuracy: 0.9177449168207024 , TrainLoss: 0.2847066670380767 , Test Accuracy: 0.9320388349514563\n",
      "Epoch 4, Train Accuracy: 0.9020332717190388 , TrainLoss: 0.30952808729161174 , Test Accuracy: 0.9320388349514563\n",
      "Epoch 5, Train Accuracy: 0.9057301293900185 , TrainLoss: 0.3113683843348251 , Test Accuracy: 0.9320388349514563\n",
      "Epoch 6, Train Accuracy: 0.9020332717190388 , TrainLoss: 0.3214926702037536 , Test Accuracy: 0.9029126213592233\n",
      "Epoch 7, Train Accuracy: 0.8974121996303143 , TrainLoss: 0.32400799899356864 , Test Accuracy: 0.9223300970873787\n",
      "Epoch 8, Train Accuracy: 0.9001848428835489 , TrainLoss: 0.32729361546458247 , Test Accuracy: 0.9320388349514563\n",
      "Epoch 9, Train Accuracy: 0.911275415896488 , TrainLoss: 0.3122166961486591 , Test Accuracy: 0.941747572815534\n",
      "Checkpoint saved\n",
      "Epoch 10, Train Accuracy: 0.9242144177449169 , TrainLoss: 0.2675898436477577 , Test Accuracy: 0.9223300970873787\n",
      "Epoch 11, Train Accuracy: 0.9242144177449169 , TrainLoss: 0.25338901609678144 , Test Accuracy: 0.941747572815534\n",
      "Epoch 12, Train Accuracy: 0.9140480591497228 , TrainLoss: 0.2902159444065059 , Test Accuracy: 0.9320388349514563\n",
      "Epoch 13, Train Accuracy: 0.9011090573012939 , TrainLoss: 0.34880684836734904 , Test Accuracy: 0.9320388349514563\n",
      "Epoch 14, Train Accuracy: 0.9011090573012939 , TrainLoss: 0.2998843153391219 , Test Accuracy: 0.9223300970873787\n",
      "Epoch 15, Train Accuracy: 0.9214417744916821 , TrainLoss: 0.2592961391547691 , Test Accuracy: 0.9223300970873787\n",
      "Epoch 16, Train Accuracy: 0.9168207024029574 , TrainLoss: 0.30528026676001696 , Test Accuracy: 0.9223300970873787\n",
      "Epoch 17, Train Accuracy: 0.9029574861367837 , TrainLoss: 0.3114609110157062 , Test Accuracy: 0.9029126213592233\n",
      "Epoch 18, Train Accuracy: 0.9195933456561922 , TrainLoss: 0.23828965590753748 , Test Accuracy: 0.9320388349514563\n",
      "Epoch 19, Train Accuracy: 0.8872458410351202 , TrainLoss: 0.37479567043001244 , Test Accuracy: 0.941747572815534\n"
     ]
    }
   ],
   "source": [
    "train(20)"
   ]
  },
  {
   "cell_type": "code",
   "execution_count": 21,
   "metadata": {},
   "outputs": [],
   "source": [
    "model_ft.load_state_dict(torch.load('./densenetmodel_10.model'))"
   ]
  },
  {
   "cell_type": "code",
   "execution_count": 25,
   "metadata": {},
   "outputs": [
    {
     "name": "stdout",
     "output_type": "stream",
     "text": [
      "Epoch 0, Train Accuracy: 0.9085027726432532 , TrainLoss: 0.29867289819911313 , Test Accuracy: 0.9320388349514563\n",
      "Epoch 1, Train Accuracy: 0.9057301293900185 , TrainLoss: 0.3029244660009077 , Test Accuracy: 0.9320388349514563\n",
      "Epoch 2, Train Accuracy: 0.9094269870609981 , TrainLoss: 0.2873449713377327 , Test Accuracy: 0.9223300970873787\n",
      "Epoch 3, Train Accuracy: 0.9177449168207024 , TrainLoss: 0.2502479751537556 , Test Accuracy: 0.9223300970873787\n",
      "Epoch 4, Train Accuracy: 0.9085027726432532 , TrainLoss: 0.29572015240540567 , Test Accuracy: 0.9320388349514563\n",
      "Epoch 5, Train Accuracy: 0.9020332717190388 , TrainLoss: 0.310632077691295 , Test Accuracy: 0.912621359223301\n",
      "Epoch 6, Train Accuracy: 0.911275415896488 , TrainLoss: 0.2909331000005472 , Test Accuracy: 0.912621359223301\n",
      "Checkpoint saved\n",
      "Epoch 7, Train Accuracy: 0.9232902033271719 , TrainLoss: 0.26660372413240385 , Test Accuracy: 0.9320388349514563\n",
      "Epoch 8, Train Accuracy: 0.9205175600739371 , TrainLoss: 0.2732248244576445 , Test Accuracy: 0.9320388349514563\n",
      "Epoch 9, Train Accuracy: 0.9075785582255084 , TrainLoss: 0.3052869526163267 , Test Accuracy: 0.9320388349514563\n",
      "Epoch 10, Train Accuracy: 0.9038817005545287 , TrainLoss: 0.3179299447981575 , Test Accuracy: 0.912621359223301\n",
      "Epoch 11, Train Accuracy: 0.9149722735674677 , TrainLoss: 0.27755858849685866 , Test Accuracy: 0.941747572815534\n",
      "Epoch 12, Train Accuracy: 0.9057301293900185 , TrainLoss: 0.28980044516529924 , Test Accuracy: 0.9223300970873787\n",
      "Epoch 13, Train Accuracy: 0.9121996303142329 , TrainLoss: 0.2810747967189429 , Test Accuracy: 0.9320388349514563\n",
      "Epoch 14, Train Accuracy: 0.9029574861367837 , TrainLoss: 0.32860369514846094 , Test Accuracy: 0.9223300970873787\n",
      "Epoch 15, Train Accuracy: 0.911275415896488 , TrainLoss: 0.31601098725183174 , Test Accuracy: 0.9320388349514563\n",
      "Epoch 16, Train Accuracy: 0.9057301293900185 , TrainLoss: 0.3184336813893204 , Test Accuracy: 0.9320388349514563\n",
      "Epoch 17, Train Accuracy: 0.9020332717190388 , TrainLoss: 0.3195898977974206 , Test Accuracy: 0.9320388349514563\n",
      "Epoch 18, Train Accuracy: 0.9011090573012939 , TrainLoss: 0.33246308730402185 , Test Accuracy: 0.9320388349514563\n",
      "Epoch 19, Train Accuracy: 0.911275415896488 , TrainLoss: 0.30965718191784986 , Test Accuracy: 0.9320388349514563\n"
     ]
    }
   ],
   "source": [
    "train(20)"
   ]
  },
  {
   "cell_type": "code",
   "execution_count": 26,
   "metadata": {},
   "outputs": [],
   "source": [
    "model_ft.load_state_dict(torch.load('./pnasnet5largemodel_7.model'))"
   ]
  },
  {
   "cell_type": "code",
   "execution_count": 27,
   "metadata": {},
   "outputs": [],
   "source": [
    "test_dir = './bird_dataset/test_images/mistery_category'\n",
    "output_file = open(\"testdensenet.csv\", \"w\")\n",
    "output_file.write(\"Id,Category\\n\")\n",
    "\n",
    "def pil_loader(path):\n",
    "    # open path as file to avoid ResourceWarning (https://github.com/python-pillow/Pillow/issues/835)\n",
    "    with open(path, 'rb') as f:\n",
    "        with Image.open(f) as img:\n",
    "            return img.convert('RGB')\n",
    "\n",
    "for f in os.listdir(test_dir):\n",
    "    if 'jpg' in f:\n",
    "        data = valid_transform(pil_loader(test_dir + '/' + f))\n",
    "        data = data.view(1, data.size(0), data.size(1), data.size(2))\n",
    "        if cuda_avail:\n",
    "            data = data.cuda()\n",
    "        model_ft.eval()\n",
    "        output = model_ft(data)\n",
    "        pred = output.data.max(1, keepdim=True)[1]\n",
    "        output_file.write(\"%s,%d\\n\" % (f[:-4], pred))\n",
    "\n",
    "output_file.close()"
   ]
  },
  {
   "cell_type": "code",
   "execution_count": 14,
   "metadata": {},
   "outputs": [],
   "source": [
    "torch.save(model_ft.state_dict(), \"pnaslarge_0.81290_.model\")"
   ]
  },
  {
   "cell_type": "code",
   "execution_count": null,
   "metadata": {},
   "outputs": [],
   "source": []
  }
 ],
 "metadata": {
  "kernelspec": {
   "display_name": "Python 3",
   "language": "python",
   "name": "python3"
  },
  "language_info": {
   "codemirror_mode": {
    "name": "ipython",
    "version": 3
   },
   "file_extension": ".py",
   "mimetype": "text/x-python",
   "name": "python",
   "nbconvert_exporter": "python",
   "pygments_lexer": "ipython3",
   "version": "3.5.2"
  }
 },
 "nbformat": 4,
 "nbformat_minor": 2
}
